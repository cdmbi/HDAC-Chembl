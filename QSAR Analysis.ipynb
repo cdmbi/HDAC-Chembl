{
 "cells": [
  {
   "cell_type": "markdown",
   "metadata": {},
   "source": [
    "## Import Data\n"
   ]
  },
  {
   "cell_type": "code",
   "execution_count": 1,
   "metadata": {
    "collapsed": false
   },
   "outputs": [],
   "source": [
    "import pandas as pd\n",
    "file = pd.read_csv(\"hdac.txt\", sep = \"\\t\")\n",
    "### Get only IC50 that has equal acticit and the units of nM\n",
    "query = file.query('STANDARD_TYPE == \"IC50\" and RELATION == \"=\" and STANDARD_UNITS == \"nM\"')\n",
    "query.drop_duplicates(cols = \"CANONICAL_SMILES\")\n",
    "\n",
    "IC50 = query['STANDARD_VALUE']\n",
    "SMILES = query['CANONICAL_SMILES']\n"
   ]
  },
  {
   "cell_type": "code",
   "execution_count": 2,
   "metadata": {
    "collapsed": false
   },
   "outputs": [
    {
     "data": {
      "text/plain": [
       "CMPD_CHEMBLID            707\n",
       "MOLREGNO                 707\n",
       "PARENT_CMPD_CHEMBLID     707\n",
       "PARENT_MOLREGNO          707\n",
       "MOL_PREF_NAME            131\n",
       "COMPOUND_KEY             707\n",
       "MOLWEIGHT                700\n",
       "ALOGP                    697\n",
       "PSA                      697\n",
       "NUM_RO5_VIOLATIONS       697\n",
       "CANONICAL_SMILES         707\n",
       "ACTIVITY_ID              707\n",
       "STANDARD_TYPE            707\n",
       "RELATION                 707\n",
       "STANDARD_VALUE           707\n",
       "STANDARD_UNITS           707\n",
       "PCHEMBL_VALUE            701\n",
       "ACTIVITY_COMMENT           0\n",
       "DATA_VALIDITY_COMMENT      6\n",
       "POTENTIAL_DUPLICATE      707\n",
       "BAO_ENDPOINT             707\n",
       "UO_UNITS                 707\n",
       "QUDT_UNITS               707\n",
       "ASSAY_ID                 707\n",
       "ASSAY_CHEMBLID           707\n",
       "ASSAY_TYPE               707\n",
       "DESCRIPTION              707\n",
       "ASSAY_SRC_ID             707\n",
       "ASSAY_SRC_DESCRIPTION    707\n",
       "ASSAY_ORGANISM           567\n",
       "ASSAY_STRAIN               0\n",
       "ASSAY_TAX_ID             567\n",
       "CURATED_BY               707\n",
       "BAO_FORMAT               707\n",
       "TID                      707\n",
       "TARGET_CHEMBLID          707\n",
       "TARGET_TYPE              707\n",
       "PROTEIN_ACCESSION        707\n",
       "PREF_NAME                707\n",
       "ORGANISM                 707\n",
       "CONFIDENCE_SCORE         707\n",
       "TARGET_MAPPING           707\n",
       "APD_NAME                 562\n",
       "APD_CONFIDENCE           439\n",
       "DOC_ID                   707\n",
       "DOC_CHEMBLID             707\n",
       "PUBMED_ID                680\n",
       "JOURNAL                  707\n",
       "YEAR                     707\n",
       "VOLUME                   707\n",
       "ISSUE                    648\n",
       "FIRST_PAGE               707\n",
       "CELL_ID                   30\n",
       "CELL_CHEMBL_ID            30\n",
       "CELL_NAME                 30\n",
       "dtype: int64"
      ]
     },
     "execution_count": 2,
     "metadata": {},
     "output_type": "execute_result"
    }
   ],
   "source": [
    "query.count(axis=0)"
   ]
  },
  {
   "cell_type": "markdown",
   "metadata": {},
   "source": [
    "## Standardized molecules"
   ]
  },
  {
   "cell_type": "code",
   "execution_count": 3,
   "metadata": {
    "collapsed": false
   },
   "outputs": [],
   "source": [
    "from rdkit.Chem.SaltRemover import SaltRemover\n",
    "from rdkit.Chem import MolFromSmiles,MolToSmiles\n",
    "\n",
    "remover = SaltRemover()\n",
    "len(remover.salts)\n",
    "\n",
    "SMILES_desalt = []\n",
    "\n",
    "for i in SMILES:\n",
    "    mol = MolFromSmiles(i) \n",
    "    mol_desalt = remover.StripMol(mol)\n",
    "    mol_SMILES = MolToSmiles(mol_desalt)\n",
    "    SMILES_desalt.append(mol_SMILES)"
   ]
  },
  {
   "cell_type": "markdown",
   "metadata": {
    "collapsed": true
   },
   "source": [
    "## Binding the Standardized SMILES with Bioactivity Data"
   ]
  },
  {
   "cell_type": "code",
   "execution_count": 4,
   "metadata": {
    "collapsed": true
   },
   "outputs": [],
   "source": [
    "IC50_nm = pd.Series.tolist(IC50)\n",
    "\n",
    "df = pd.DataFrame({'smiles' : SMILES_desalt,\n",
    " 'IC50':IC50_nm\n",
    "  })"
   ]
  },
  {
   "cell_type": "markdown",
   "metadata": {},
   "source": [
    "## Pharsing the SMILES to calculate Morgan Fingerprint Descriptors"
   ]
  },
  {
   "cell_type": "code",
   "execution_count": 5,
   "metadata": {
    "collapsed": true
   },
   "outputs": [],
   "source": [
    "from rdkit.Chem import PandasTools, AllChem\n",
    "PandasTools.AddMoleculeColumnToFrame(df, smilesCol = 'smiles')\n",
    "fps = [AllChem.GetMorganFingerprintAsBitVect(m, 1) for m in df['ROMol']]"
   ]
  },
  {
   "cell_type": "markdown",
   "metadata": {},
   "source": [
    "## Converting RDkit data structure to numerical descriptors"
   ]
  },
  {
   "cell_type": "code",
   "execution_count": 6,
   "metadata": {
    "collapsed": true
   },
   "outputs": [],
   "source": [
    "import numpy as np\n",
    "from rdkit import DataStructs\n",
    "descriptors = []\n",
    "for fp in fps:\n",
    "  arr = np.zeros((1,))\n",
    "  DataStructs.ConvertToNumpyArray(fp, arr)\n",
    "  descriptors.append(arr)\n"
   ]
  },
  {
   "cell_type": "markdown",
   "metadata": {},
   "source": [
    "## Data Transformation (Converting IC50 to pIC50)"
   ]
  },
  {
   "cell_type": "code",
   "execution_count": 8,
   "metadata": {
    "collapsed": false
   },
   "outputs": [],
   "source": [
    "from math import log10\n",
    "import numpy as np\n",
    "np_ic50 = np.array(IC50)\n",
    "\n",
    "pIC50 = []\n",
    "for i in np_ic50:\n",
    "    molar = i*(10**-9) # Converts nM to M\n",
    "    pIC50.append(-log10(molar))\n",
    "\n",
    "\n",
    "y = pIC50\n",
    "X = descriptors"
   ]
  },
  {
   "cell_type": "markdown",
   "metadata": {},
   "source": [
    "## Writing a function that will perform training, cross-validation and testing "
   ]
  },
  {
   "cell_type": "code",
   "execution_count": 10,
   "metadata": {
    "collapsed": false
   },
   "outputs": [],
   "source": [
    "from sklearn.ensemble import RandomForestRegressor\n",
    "from sklearn.cross_validation import train_test_split, cross_val_predict, cross_val_score\n",
    "from sklearn.metrics import r2_score, mean_squared_error\n",
    "import numpy as np\n",
    "\n",
    "def build_models_regression(x, y, model):\n",
    "   \n",
    "    \n",
    "    if model == \"training\":\n",
    "        X_train, X_test, y_train, y_test = train_test_split(x, y,\n",
    "        test_size = 0.2)\n",
    "        rf = RandomForestRegressor(n_estimators = 500, max_features = 'sqrt')\n",
    "        rf.fit(X_train, y_train)\n",
    "        rmse = np.sqrt(mean_squared_error(y_train, rf.predict(X_train)))\n",
    "        r2 = r2_score(y_train, rf.predict(X_train))\n",
    "        print(\"The internal set's R-Squared is %.2f  and Root Mean Squared Error is %.2f\" % (r2, rmse))\n",
    "    #rmse = np.sqrt(mean_squared_error(y_train, rf.predict(X_train)))\n",
    "    #r2 = r2_score(y_train, rf.predict(X_train))\n",
    "    #print \"The internal set's R-Squared is %.2f  and Root Mean Squared Error is %.2f\" % (r2, rmse)\n",
    "    elif model == \"CV\":\n",
    "        X_train, X_test, y_train, y_test = train_test_split(x, y,\n",
    "        test_size = 0.2)\n",
    "        rf = RandomForestRegressor(n_estimators = 500, max_features = 'sqrt')\n",
    "        rf.fit(X_train, y_train)\n",
    "        #rmse = np.sqrt(mean_squared_error(y_train, cross_val_predict(rf, X_train, y_train, cv = 10)))\n",
    "        r2 = cross_val_score(rf, X_train, y_train, cv = 10)\n",
    "        r2 = r2.mean()\n",
    "        #r2 = r2_score(y_train, cross_val_predict(rf, X_train, y_train, cv = 10))\n",
    "        print(\"The 10-fold Cross Validation set's R-Squared is %.2f\" % r2)\n",
    "    elif model == \"testing\":\n",
    "        X_train, X_test, y_train, y_test = train_test_split(x, y,\n",
    "        test_size = 0.2)\n",
    "        rf = RandomForestRegressor(n_estimators = 500, max_features = 'sqrt')\n",
    "        rf.fit(X_train, y_train)\n",
    "        rmse = np.sqrt(mean_squared_error(y_test, rf.predict(X_test)))\n",
    "        r2 = r2_score(y_test, rf.predict(X_test))\n",
    "        print(\"The external set's R-Squared is %.2f  and Root Mean Squared Error is %.2f\" % (r2, rmse))\n",
    "    \n",
    "\n"
   ]
  },
  {
   "cell_type": "markdown",
   "metadata": {},
   "source": [
    "## Training performance"
   ]
  },
  {
   "cell_type": "code",
   "execution_count": 11,
   "metadata": {
    "collapsed": false
   },
   "outputs": [
    {
     "name": "stdout",
     "output_type": "stream",
     "text": [
      "The internal set's R-Squared is 0.87  and Root Mean Squared Error is 0.39\n"
     ]
    }
   ],
   "source": [
    "build_models_regression(x = descriptors, y = pIC50, model = \"training\")"
   ]
  },
  {
   "cell_type": "markdown",
   "metadata": {},
   "source": [
    "## 10-Fold Cross Validation's Performance"
   ]
  },
  {
   "cell_type": "code",
   "execution_count": 12,
   "metadata": {
    "collapsed": false
   },
   "outputs": [
    {
     "name": "stdout",
     "output_type": "stream",
     "text": [
      "The 10-fold Cross Validation set's R-Squared is 0.52\n"
     ]
    }
   ],
   "source": [
    "build_models_regression(x = descriptors, y = pIC50, model = \"CV\")"
   ]
  },
  {
   "cell_type": "markdown",
   "metadata": {},
   "source": [
    "## Testing Performance"
   ]
  },
  {
   "cell_type": "code",
   "execution_count": 13,
   "metadata": {
    "collapsed": false
   },
   "outputs": [
    {
     "name": "stdout",
     "output_type": "stream",
     "text": [
      "The external set's R-Squared is 0.51  and Root Mean Squared Error is 0.78\n"
     ]
    }
   ],
   "source": [
    "build_models_regression(x = descriptors, y = pIC50, model = \"testing\")"
   ]
  },
  {
   "cell_type": "code",
   "execution_count": null,
   "metadata": {
    "collapsed": true
   },
   "outputs": [],
   "source": []
  }
 ],
 "metadata": {
  "kernelspec": {
   "display_name": "Python 3",
   "language": "python",
   "name": "python3"
  },
  "language_info": {
   "codemirror_mode": {
    "name": "ipython",
    "version": 3
   },
   "file_extension": ".py",
   "mimetype": "text/x-python",
   "name": "python",
   "nbconvert_exporter": "python",
   "pygments_lexer": "ipython3",
   "version": "3.5.1"
  }
 },
 "nbformat": 4,
 "nbformat_minor": 0
}
