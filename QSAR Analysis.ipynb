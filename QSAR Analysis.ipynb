{
 "cells": [
  {
   "cell_type": "markdown",
   "metadata": {},
   "source": [
    "## Import Data\n"
   ]
  },
  {
   "cell_type": "code",
   "execution_count": 6,
   "metadata": {
    "collapsed": false
   },
   "outputs": [],
   "source": [
    "import pandas as pd\n",
    "file = pd.read_csv(\"https://raw.githubusercontent.com/sawsimeon/HDAC-Chembl/master/hdac.txt\", sep = \"\\t\")\n",
    "query = file.query('STANDARD_TYPE == \"IC50\" and RELATION == \"=\" and STANDARD_UNITS == \"nM\"')\n",
    "query.drop_duplicates(subset = \"CANONICAL_SMILES\")\n",
    "\n",
    "IC50 = query['STANDARD_VALUE']\n",
    "SMILES = query['CANONICAL_SMILES']\n"
   ]
  },
  {
   "cell_type": "code",
   "execution_count": 7,
   "metadata": {
    "collapsed": false
   },
   "outputs": [
    {
     "data": {
      "text/plain": [
       "CMPD_CHEMBLID            707\n",
       "MOLREGNO                 707\n",
       "PARENT_CMPD_CHEMBLID     707\n",
       "PARENT_MOLREGNO          707\n",
       "MOL_PREF_NAME            131\n",
       "COMPOUND_KEY             707\n",
       "MOLWEIGHT                700\n",
       "ALOGP                    697\n",
       "PSA                      697\n",
       "NUM_RO5_VIOLATIONS       697\n",
       "CANONICAL_SMILES         707\n",
       "ACTIVITY_ID              707\n",
       "STANDARD_TYPE            707\n",
       "RELATION                 707\n",
       "STANDARD_VALUE           707\n",
       "STANDARD_UNITS           707\n",
       "PCHEMBL_VALUE            701\n",
       "ACTIVITY_COMMENT           0\n",
       "DATA_VALIDITY_COMMENT      6\n",
       "POTENTIAL_DUPLICATE      707\n",
       "BAO_ENDPOINT             707\n",
       "UO_UNITS                 707\n",
       "QUDT_UNITS               707\n",
       "ASSAY_ID                 707\n",
       "ASSAY_CHEMBLID           707\n",
       "ASSAY_TYPE               707\n",
       "DESCRIPTION              707\n",
       "ASSAY_SRC_ID             707\n",
       "ASSAY_SRC_DESCRIPTION    707\n",
       "ASSAY_ORGANISM           567\n",
       "ASSAY_STRAIN               0\n",
       "ASSAY_TAX_ID             567\n",
       "CURATED_BY               707\n",
       "BAO_FORMAT               707\n",
       "TID                      707\n",
       "TARGET_CHEMBLID          707\n",
       "TARGET_TYPE              707\n",
       "PROTEIN_ACCESSION        707\n",
       "PREF_NAME                707\n",
       "ORGANISM                 707\n",
       "CONFIDENCE_SCORE         707\n",
       "TARGET_MAPPING           707\n",
       "APD_NAME                 562\n",
       "APD_CONFIDENCE           439\n",
       "DOC_ID                   707\n",
       "DOC_CHEMBLID             707\n",
       "PUBMED_ID                680\n",
       "JOURNAL                  707\n",
       "YEAR                     707\n",
       "VOLUME                   707\n",
       "ISSUE                    648\n",
       "FIRST_PAGE               707\n",
       "CELL_ID                   30\n",
       "CELL_CHEMBL_ID            30\n",
       "CELL_NAME                 30\n",
       "dtype: int64"
      ]
     },
     "execution_count": 7,
     "metadata": {},
     "output_type": "execute_result"
    }
   ],
   "source": [
    "query.count(axis=0)"
   ]
  },
  {
   "cell_type": "markdown",
   "metadata": {},
   "source": [
    "## Standardized molecules"
   ]
  },
  {
   "cell_type": "code",
   "execution_count": 8,
   "metadata": {
    "collapsed": false
   },
   "outputs": [],
   "source": [
    "from rdkit.Chem.SaltRemover import SaltRemover\n",
    "from rdkit.Chem import MolFromSmiles,MolToSmiles\n",
    "\n",
    "remover = SaltRemover()\n",
    "len(remover.salts)\n",
    "\n",
    "SMILES_desalt = []\n",
    "\n",
    "for i in SMILES:\n",
    "    mol = MolFromSmiles(i) \n",
    "    mol_desalt = remover.StripMol(mol)\n",
    "    mol_SMILES = MolToSmiles(mol_desalt)\n",
    "    SMILES_desalt.append(mol_SMILES)"
   ]
  },
  {
   "cell_type": "markdown",
   "metadata": {
    "collapsed": true
   },
   "source": [
    "## Binding the Standardized SMILES with Bioactivity Data"
   ]
  },
  {
   "cell_type": "code",
   "execution_count": 9,
   "metadata": {
    "collapsed": true
   },
   "outputs": [],
   "source": [
    "IC50_nm = pd.Series.tolist(IC50)\n",
    "\n",
    "df = pd.DataFrame({'smiles' : SMILES_desalt,\n",
    " 'IC50':IC50_nm\n",
    "  })"
   ]
  },
  {
   "cell_type": "markdown",
   "metadata": {},
   "source": [
    "## Pharsing the SMILES to calculate Morgan Fingerprint Descriptors"
   ]
  },
  {
   "cell_type": "code",
   "execution_count": 10,
   "metadata": {
    "collapsed": true
   },
   "outputs": [],
   "source": [
    "from rdkit.Chem import PandasTools, AllChem\n",
    "PandasTools.AddMoleculeColumnToFrame(df, smilesCol = 'smiles')\n",
    "fps = [AllChem.GetMorganFingerprintAsBitVect(m, 1) for m in df['ROMol']]"
   ]
  },
  {
   "cell_type": "markdown",
   "metadata": {},
   "source": [
    "## Converting RDkit data structure to numerical descriptors"
   ]
  },
  {
   "cell_type": "code",
   "execution_count": 11,
   "metadata": {
    "collapsed": true
   },
   "outputs": [],
   "source": [
    "import numpy as np\n",
    "from rdkit import DataStructs\n",
    "descriptors = []\n",
    "for fp in fps:\n",
    "  arr = np.zeros((1,))\n",
    "  DataStructs.ConvertToNumpyArray(fp, arr)\n",
    "  descriptors.append(arr)\n"
   ]
  },
  {
   "cell_type": "markdown",
   "metadata": {},
   "source": [
    "## Data Transformation (Converting IC50 to pIC50)"
   ]
  },
  {
   "cell_type": "code",
   "execution_count": 12,
   "metadata": {
    "collapsed": false
   },
   "outputs": [],
   "source": [
    "from math import log10\n",
    "import numpy as np\n",
    "np_ic50 = np.array(IC50)\n",
    "\n",
    "pIC50 = []\n",
    "for i in np_ic50:\n",
    "    molar = i*(10**-9) # Converts nM to M\n",
    "    pIC50.append(-log10(molar))\n",
    "\n",
    "\n",
    "y = pIC50\n",
    "X = descriptors"
   ]
  },
  {
   "cell_type": "markdown",
   "metadata": {},
   "source": [
    "## Standardizing\n",
    "Descriptors are standradized before performing PCA analysis. "
   ]
  },
  {
   "cell_type": "code",
   "execution_count": 13,
   "metadata": {
    "collapsed": false
   },
   "outputs": [],
   "source": [
    "from sklearn.preprocessing import StandardScaler\n",
    "X_std = StandardScaler().fit_transform(X)"
   ]
  },
  {
   "cell_type": "markdown",
   "metadata": {},
   "source": [
    "## Computing Eigenvectors and Eigenvalues\n",
    "The PCA approach is to perform the eigendecomposition on the covariance matrix."
   ]
  },
  {
   "cell_type": "code",
   "execution_count": 63,
   "metadata": {
    "collapsed": true
   },
   "outputs": [],
   "source": [
    "from sklearn.decomposition import PCA as sklearnPCA\n",
    "sklearn_pca = sklearnPCA(n_components=2)\n",
    "sklearn_transf = sklearn_pca.fit_transform(X_std.T)"
   ]
  },
  {
   "cell_type": "markdown",
   "metadata": {},
   "source": [
    "## Obtain Covariance Matrix"
   ]
  },
  {
   "cell_type": "code",
   "execution_count": 60,
   "metadata": {
    "collapsed": false
   },
   "outputs": [],
   "source": [
    "cov_mat = sklearn_pca.get_covariance()"
   ]
  },
  {
   "cell_type": "markdown",
   "metadata": {},
   "source": [
    "## Perform an eigendecomposition on the covariance matrix"
   ]
  },
  {
   "cell_type": "code",
   "execution_count": 72,
   "metadata": {
    "collapsed": false
   },
   "outputs": [
    {
     "name": "stdout",
     "output_type": "stream",
     "text": [
      "Eigenvectors \n",
      "[[ 0.1+0.j   0.0+0.j  -0.0+0.j  ..., -0.1+0.j  -0.1+0.j   0.2+0.j ]\n",
      " [-0.0+0.j   0.0+0.j  -0.0+0.1j ...,  0.0+0.j   0.0+0.j  -0.0+0.j ]\n",
      " [-0.0+0.j   0.0+0.j  -0.0-0.j  ..., -0.0+0.j  -0.0+0.j  -0.0+0.j ]\n",
      " ..., \n",
      " [-0.0+0.j   0.0+0.j   0.0+0.j  ..., -0.0+0.j  -0.0+0.j  -0.0+0.j ]\n",
      " [ 0.0+0.j   0.0+0.j  -0.0-0.j  ...,  0.0+0.j   0.0+0.j  -0.0+0.j ]\n",
      " [-0.0+0.j   0.0+0.j   0.0-0.j  ...,  0.0+0.j   0.0+0.j  -0.0+0.j ]]\n",
      "\n",
      "Eigenvalues \n",
      "[ 4.9+0.j  7.8+0.j  0.3+0.j  0.3-0.j  0.3+0.j  0.3-0.j  0.3+0.j  0.3-0.j\n",
      "  0.3+0.j  0.3-0.j  0.3+0.j  0.3-0.j  0.3+0.j  0.3-0.j  0.3+0.j  0.3-0.j\n",
      "  0.3+0.j  0.3-0.j  0.3+0.j  0.3+0.j  0.3-0.j  0.3+0.j  0.3-0.j  0.3+0.j\n",
      "  0.3-0.j  0.3+0.j  0.3+0.j  0.3-0.j  0.3+0.j  0.3-0.j  0.3+0.j  0.3+0.j\n",
      "  0.3+0.j  0.3-0.j  0.3+0.j  0.3+0.j  0.3-0.j  0.3+0.j  0.3+0.j  0.3+0.j\n",
      "  0.3+0.j  0.3+0.j  0.3+0.j  0.3-0.j  0.3+0.j  0.3+0.j  0.3+0.j  0.3-0.j\n",
      "  0.3+0.j  0.3+0.j  0.3+0.j  0.3+0.j  0.3+0.j  0.3+0.j  0.3+0.j  0.3+0.j\n",
      "  0.3-0.j  0.3+0.j  0.3-0.j  0.3+0.j  0.3+0.j  0.3+0.j  0.3+0.j  0.3+0.j\n",
      "  0.3+0.j  0.3+0.j  0.3-0.j  0.3+0.j  0.3+0.j  0.3+0.j  0.3+0.j  0.3-0.j\n",
      "  0.3+0.j  0.3+0.j  0.3+0.j  0.3+0.j  0.3+0.j  0.3+0.j  0.3+0.j  0.3+0.j\n",
      "  0.3+0.j  0.3+0.j  0.3+0.j  0.3+0.j  0.3+0.j  0.3+0.j  0.3+0.j  0.3+0.j\n",
      "  0.3+0.j  0.3+0.j  0.3+0.j  0.3+0.j  0.3+0.j  0.3+0.j  0.3+0.j  0.3+0.j\n",
      "  0.3+0.j  0.3+0.j  0.3+0.j  0.3+0.j  0.3+0.j  0.3+0.j  0.3+0.j  0.3+0.j\n",
      "  0.3-0.j  0.3+0.j  0.3+0.j  0.3+0.j  0.3-0.j  0.3+0.j  0.3+0.j  0.3+0.j\n",
      "  0.3+0.j  0.3+0.j  0.3+0.j  0.3-0.j  0.3+0.j  0.3+0.j  0.3+0.j  0.3+0.j\n",
      "  0.3+0.j  0.3-0.j  0.3+0.j  0.3+0.j  0.3+0.j  0.3+0.j  0.3+0.j  0.3+0.j\n",
      "  0.3+0.j  0.3+0.j  0.3+0.j  0.3+0.j  0.3+0.j  0.3+0.j  0.3+0.j  0.3+0.j\n",
      "  0.3+0.j  0.3+0.j  0.3+0.j  0.3-0.j  0.3+0.j  0.3+0.j  0.3+0.j  0.3+0.j\n",
      "  0.3+0.j  0.3+0.j  0.3-0.j  0.3+0.j  0.3+0.j  0.3+0.j  0.3+0.j  0.3+0.j\n",
      "  0.3+0.j  0.3+0.j  0.3+0.j  0.3+0.j  0.3+0.j  0.3+0.j  0.3+0.j  0.3+0.j\n",
      "  0.3-0.j  0.3+0.j  0.3+0.j  0.3+0.j  0.3+0.j  0.3+0.j  0.3+0.j  0.3+0.j\n",
      "  0.3+0.j  0.3+0.j  0.3+0.j  0.3+0.j  0.3+0.j  0.3+0.j  0.3+0.j  0.3+0.j\n",
      "  0.3+0.j  0.3+0.j  0.3+0.j  0.3+0.j  0.3+0.j  0.3+0.j  0.3+0.j  0.3+0.j\n",
      "  0.3+0.j  0.3+0.j  0.3+0.j  0.3+0.j  0.3+0.j  0.3+0.j  0.3+0.j  0.3+0.j\n",
      "  0.3+0.j  0.3+0.j  0.3+0.j  0.3+0.j  0.3+0.j  0.3+0.j  0.3+0.j  0.3+0.j\n",
      "  0.3+0.j  0.3+0.j  0.3+0.j  0.3+0.j  0.3+0.j  0.3+0.j  0.3+0.j  0.3+0.j\n",
      "  0.3+0.j  0.3+0.j  0.3+0.j  0.3+0.j  0.3+0.j  0.3+0.j  0.3+0.j  0.3+0.j\n",
      "  0.3+0.j  0.3+0.j  0.3+0.j  0.3+0.j  0.3+0.j  0.3+0.j  0.3+0.j  0.3+0.j\n",
      "  0.3+0.j  0.3+0.j  0.3+0.j  0.3+0.j  0.3+0.j  0.3+0.j  0.3+0.j  0.3+0.j\n",
      "  0.3+0.j  0.3+0.j  0.3+0.j  0.3+0.j  0.3+0.j  0.3+0.j  0.3+0.j  0.3+0.j\n",
      "  0.3+0.j  0.3+0.j  0.3+0.j  0.3+0.j  0.3+0.j  0.3+0.j  0.3-0.j  0.3+0.j\n",
      "  0.3-0.j  0.3+0.j  0.3+0.j  0.3+0.j  0.3+0.j  0.3+0.j  0.3+0.j  0.3+0.j\n",
      "  0.3+0.j  0.3+0.j  0.3+0.j  0.3+0.j  0.3-0.j  0.3+0.j  0.3+0.j  0.3+0.j\n",
      "  0.3+0.j  0.3+0.j  0.3+0.j  0.3+0.j  0.3+0.j  0.3+0.j  0.3+0.j  0.3+0.j\n",
      "  0.3+0.j  0.3+0.j  0.3+0.j  0.3+0.j  0.3-0.j  0.3+0.j  0.3+0.j  0.3+0.j\n",
      "  0.3+0.j  0.3+0.j  0.3+0.j  0.3-0.j  0.3+0.j  0.3+0.j  0.3+0.j  0.3-0.j\n",
      "  0.3+0.j  0.3+0.j  0.3+0.j  0.3+0.j  0.3+0.j  0.3+0.j  0.3+0.j  0.3+0.j\n",
      "  0.3+0.j  0.3+0.j  0.3+0.j  0.3+0.j  0.3+0.j  0.3+0.j  0.3+0.j  0.3+0.j\n",
      "  0.3+0.j  0.3+0.j  0.3+0.j  0.3+0.j  0.3+0.j  0.3+0.j  0.3+0.j  0.3+0.j\n",
      "  0.3+0.j  0.3+0.j  0.3+0.j  0.3+0.j  0.3+0.j  0.3+0.j  0.3+0.j  0.3+0.j\n",
      "  0.3+0.j  0.3+0.j  0.3+0.j  0.3+0.j  0.3+0.j  0.3+0.j  0.3+0.j  0.3+0.j\n",
      "  0.3-0.j  0.3+0.j  0.3+0.j  0.3-0.j  0.3+0.j  0.3+0.j  0.3+0.j  0.3+0.j\n",
      "  0.3+0.j  0.3+0.j  0.3+0.j  0.3+0.j  0.3+0.j  0.3+0.j  0.3+0.j  0.3+0.j\n",
      "  0.3+0.j  0.3+0.j  0.3+0.j  0.3+0.j  0.3+0.j  0.3+0.j  0.3+0.j  0.3+0.j\n",
      "  0.3+0.j  0.3+0.j  0.3+0.j  0.3+0.j  0.3+0.j  0.3+0.j  0.3+0.j  0.3+0.j\n",
      "  0.3+0.j  0.3+0.j  0.3+0.j  0.3+0.j  0.3-0.j  0.3+0.j  0.3+0.j  0.3+0.j\n",
      "  0.3+0.j  0.3+0.j  0.3+0.j  0.3+0.j  0.3+0.j  0.3+0.j  0.3+0.j  0.3+0.j\n",
      "  0.3+0.j  0.3-0.j  0.3+0.j  0.3-0.j  0.3+0.j  0.3+0.j  0.3+0.j  0.3+0.j\n",
      "  0.3+0.j  0.3+0.j  0.3+0.j  0.3+0.j  0.3+0.j  0.3+0.j  0.3+0.j  0.3+0.j\n",
      "  0.3+0.j  0.3+0.j  0.3+0.j  0.3+0.j  0.3+0.j  0.3+0.j  0.3+0.j  0.3+0.j\n",
      "  0.3+0.j  0.3+0.j  0.3+0.j  0.3+0.j  0.3-0.j  0.3+0.j  0.3+0.j  0.3+0.j\n",
      "  0.3+0.j  0.3+0.j  0.3+0.j  0.3+0.j  0.3+0.j  0.3+0.j  0.3+0.j  0.3+0.j\n",
      "  0.3+0.j  0.3+0.j  0.3+0.j  0.3+0.j  0.3+0.j  0.3+0.j  0.3+0.j  0.3+0.j\n",
      "  0.3+0.j  0.3+0.j  0.3+0.j  0.3+0.j  0.3+0.j  0.3+0.j  0.3+0.j  0.3+0.j\n",
      "  0.3+0.j  0.3+0.j  0.3-0.j  0.3+0.j  0.3+0.j  0.3+0.j  0.3+0.j  0.3+0.j\n",
      "  0.3+0.j  0.3+0.j  0.3+0.j  0.3+0.j  0.3+0.j  0.3+0.j  0.3+0.j  0.3+0.j\n",
      "  0.3+0.j  0.3+0.j  0.3-0.j  0.3+0.j  0.3+0.j  0.3+0.j  0.3+0.j  0.3+0.j\n",
      "  0.3+0.j  0.3+0.j  0.3+0.j  0.3+0.j  0.3+0.j  0.3+0.j  0.3+0.j  0.3+0.j\n",
      "  0.3+0.j  0.3+0.j  0.3-0.j  0.3+0.j  0.3+0.j  0.3-0.j  0.3+0.j  0.3+0.j\n",
      "  0.3-0.j  0.3+0.j  0.3+0.j  0.3+0.j  0.3+0.j  0.3+0.j  0.3+0.j  0.3+0.j\n",
      "  0.3+0.j  0.3+0.j  0.3+0.j  0.3+0.j  0.3+0.j  0.3+0.j  0.3+0.j  0.3+0.j\n",
      "  0.3+0.j  0.3+0.j  0.3+0.j  0.3+0.j  0.3+0.j  0.3+0.j  0.3+0.j  0.3+0.j\n",
      "  0.3+0.j  0.3+0.j  0.3+0.j  0.3+0.j  0.3+0.j  0.3+0.j  0.3+0.j  0.3+0.j\n",
      "  0.3+0.j  0.3+0.j  0.3+0.j  0.3+0.j  0.3+0.j  0.3+0.j  0.3+0.j  0.3+0.j\n",
      "  0.3+0.j  0.3-0.j  0.3+0.j  0.3+0.j  0.3+0.j  0.3+0.j  0.3+0.j  0.3+0.j\n",
      "  0.3+0.j  0.3+0.j  0.3+0.j  0.3+0.j  0.3-0.j  0.3+0.j  0.3+0.j  0.3+0.j\n",
      "  0.3+0.j  0.3-0.j  0.3+0.j  0.3+0.j  0.3+0.j  0.3+0.j  0.3+0.j  0.3+0.j\n",
      "  0.3+0.j  0.3+0.j  0.3+0.j  0.3+0.j  0.3+0.j  0.3+0.j  0.3+0.j  0.3+0.j\n",
      "  0.3+0.j  0.3+0.j  0.3+0.j  0.3+0.j  0.3+0.j  0.3+0.j  0.3+0.j  0.3+0.j\n",
      "  0.3+0.j  0.3+0.j  0.3+0.j  0.3+0.j  0.3+0.j  0.3+0.j  0.3+0.j  0.3+0.j\n",
      "  0.3-0.j  0.3+0.j  0.3+0.j  0.3+0.j  0.3+0.j  0.3+0.j  0.3+0.j  0.3+0.j\n",
      "  0.3+0.j  0.3+0.j  0.3+0.j  0.3+0.j  0.3+0.j  0.3-0.j  0.3+0.j  0.3+0.j\n",
      "  0.3+0.j  0.3+0.j  0.3+0.j  0.3+0.j  0.3+0.j  0.3+0.j  0.3+0.j  0.3+0.j\n",
      "  0.3+0.j  0.3+0.j  0.3+0.j  0.3+0.j  0.3+0.j  0.3+0.j  0.3+0.j  0.3+0.j\n",
      "  0.3+0.j  0.3+0.j  0.3+0.j  0.3+0.j  0.3+0.j  0.3+0.j  0.3+0.j  0.3+0.j\n",
      "  0.3+0.j  0.3+0.j  0.3+0.j  0.3+0.j  0.3+0.j  0.3+0.j  0.3+0.j  0.3+0.j\n",
      "  0.3+0.j  0.3+0.j  0.3+0.j  0.3+0.j  0.3+0.j  0.3+0.j  0.3+0.j  0.3+0.j\n",
      "  0.3+0.j  0.3+0.j  0.3-0.j  0.3+0.j  0.3+0.j  0.3+0.j  0.3+0.j  0.3+0.j\n",
      "  0.3+0.j  0.3+0.j  0.3+0.j  0.3+0.j  0.3+0.j  0.3+0.j  0.3+0.j  0.3+0.j\n",
      "  0.3+0.j  0.3+0.j  0.3+0.j  0.3+0.j  0.3+0.j  0.3+0.j  0.3+0.j  0.3+0.j\n",
      "  0.3+0.j  0.3+0.j  0.3+0.j  0.3+0.j  0.3+0.j  0.3+0.j  0.3+0.j  0.3+0.j\n",
      "  0.3+0.j  0.3+0.j  0.3+0.j  0.3+0.j  0.3-0.j  0.3+0.j  0.3+0.j  0.3+0.j\n",
      "  0.3+0.j  0.3+0.j  0.3+0.j  0.3+0.j  0.3-0.j  0.3+0.j  0.3+0.j  0.3+0.j\n",
      "  0.3+0.j  0.3+0.j  0.3+0.j  0.3+0.j  0.3+0.j  0.3+0.j  0.3+0.j  0.3+0.j\n",
      "  0.3+0.j  0.3+0.j  0.3+0.j  0.3+0.j  0.3+0.j  0.3+0.j  0.3+0.j  0.3+0.j\n",
      "  0.3+0.j  0.3+0.j  0.3+0.j  0.3+0.j  0.3-0.j  0.3+0.j  0.3+0.j  0.3+0.j\n",
      "  0.3+0.j  0.3+0.j  0.3-0.j  0.3+0.j  0.3+0.j  0.3+0.j  0.3+0.j  0.3+0.j\n",
      "  0.3+0.j  0.3+0.j  0.3+0.j  0.3+0.j  0.3+0.j  0.3+0.j  0.3+0.j  0.3+0.j\n",
      "  0.3+0.j  0.3+0.j  0.3+0.j]\n"
     ]
    }
   ],
   "source": [
    "eig_vals, eig_vecs = np.linalg.eig(cov_mat)\n",
    "\n",
    "eig_vals = np.around(eig_vals, decimals=1)\n",
    "eig_vecs = np.around(eig_vecs, decimals = 1)\n",
    "print('Eigenvectors \\n%s' %eig_vecs)\n",
    "print('\\nEigenvalues \\n%s' %eig_vals)"
   ]
  },
  {
   "cell_type": "code",
   "execution_count": 88,
   "metadata": {
    "collapsed": false
   },
   "outputs": [
    {
     "name": "stderr",
     "output_type": "stream",
     "text": [
      "//anaconda/lib/python3.5/site-packages/matplotlib/axes/_axes.py:519: UserWarning:\n",
      "\n",
      "No labelled objects found. Use label='...' kwarg on individual plots.\n",
      "\n"
     ]
    },
    {
     "data": {
      "image/png": "[encoded data removed]",
      "text/plain": [
       "<matplotlib.figure.Figure at 0x10434f9e8>"
      ]
     },
     "metadata": {},
     "output_type": "display_data"
    }
   ],
   "source": [
    "%matplotlib inline\n",
    "from matplotlib import pyplot as plt\n",
    "plt.plot(sklearn_transf[0:707,0],sklearn_transf[0:707,1], 'o', markersize=7, color='blue', alpha=0.3)\n",
    "#plt.plot(sklearn_transf[0:2751,0], sklearn_transf[0:2751,1], '^', markersize=7, color='red', alpha=0.5, label='class2')\n",
    "\n",
    "plt.xlabel('PC 1')\n",
    "plt.ylabel('PC 2')\n",
    "plt.xlim([-12,12])\n",
    "plt.ylim([-12,12])\n",
    "plt.legend()\n",
    "plt.title('Principal Component Analysis of Histone Deacetylase Inhibitors')\n",
    "\n",
    "plt.show()\n"
   ]
  },
  {
   "cell_type": "code",
   "execution_count": 17,
   "metadata": {
    "collapsed": false
   },
   "outputs": [],
   "source": [
    "from sklearn.ensemble import RandomForestRegressor\n",
    "from sklearn.cross_validation import train_test_split, cross_val_predict, cross_val_score\n",
    "from sklearn.metrics import r2_score, mean_squared_error\n",
    "import numpy as np\n",
    "\n",
    "def build_models_regression(x, y, model):\n",
    "   \n",
    "    \n",
    "    if model == \"training\":\n",
    "        X_train, X_test, y_train, y_test = train_test_split(x, y,\n",
    "        test_size = 0.2)\n",
    "        rf = RandomForestRegressor(n_estimators = 500, max_features = 'sqrt')\n",
    "        rf.fit(X_train, y_train)\n",
    "        rmse = np.sqrt(mean_squared_error(y_train, rf.predict(X_train)))\n",
    "        r2 = r2_score(y_train, rf.predict(X_train))\n",
    "        print(\"The internal set's R-Squared is %.2f  and Root Mean Squared Error is %.2f\" % (r2, rmse))\n",
    "    #rmse = np.sqrt(mean_squared_error(y_train, rf.predict(X_train)))\n",
    "    #r2 = r2_score(y_train, rf.predict(X_train))\n",
    "    #print \"The internal set's R-Squared is %.2f  and Root Mean Squared Error is %.2f\" % (r2, rmse)\n",
    "    elif model == \"CV\":\n",
    "        X_train, X_test, y_train, y_test = train_test_split(x, y,\n",
    "        test_size = 0.2)\n",
    "        rf = RandomForestRegressor(n_estimators = 500, max_features = 'sqrt')\n",
    "        rf.fit(X_train, y_train)\n",
    "        #rmse = np.sqrt(mean_squared_error(y_train, cross_val_predict(rf, X_train, y_train, cv = 10)))\n",
    "        rmse = np.sqrt(mean_squared_error(y_train, cross_val_predict(rf, X_train, y_train, cv = 10)))\n",
    "        r2 = r2_score(y_train, cross_val_predict(rf, X_train, y_train, cv = 10))\n",
    "        print(\"The 10 fold set's R-Squared is %.2f  and Root Mean Squared Error is %.2f\" % (r2, rmse))\n",
    "    elif model == \"testing\":\n",
    "        X_train, X_test, y_train, y_test = train_test_split(x, y,\n",
    "        test_size = 0.2)\n",
    "        rf = RandomForestRegressor(n_estimators = 500, max_features = 'sqrt')\n",
    "        rf.fit(X_train, y_train)\n",
    "        rmse = np.sqrt(mean_squared_error(y_test, rf.predict(X_test)))\n",
    "        r2 = r2_score(y_test, rf.predict(X_test))\n",
    "        print(\"The external set's R-Squared is %.2f  and Root Mean Squared Error is %.2f\" % (r2, rmse))\n",
    "    \n",
    "\n"
   ]
  },
  {
   "cell_type": "markdown",
   "metadata": {},
   "source": [
    "## Training performance"
   ]
  },
  {
   "cell_type": "code",
   "execution_count": 18,
   "metadata": {
    "collapsed": false
   },
   "outputs": [
    {
     "name": "stdout",
     "output_type": "stream",
     "text": [
      "The internal set's R-Squared is 0.88  and Root Mean Squared Error is 0.39\n"
     ]
    }
   ],
   "source": [
    "build_models_regression(x = descriptors, y = pIC50, model = \"training\")"
   ]
  },
  {
   "cell_type": "markdown",
   "metadata": {},
   "source": [
    "## 10-Fold Cross Validation's Performance"
   ]
  },
  {
   "cell_type": "code",
   "execution_count": 19,
   "metadata": {
    "collapsed": false
   },
   "outputs": [
    {
     "name": "stdout",
     "output_type": "stream",
     "text": [
      "The 10 fold set's R-Squared is 0.53  and Root Mean Squared Error is 0.75\n"
     ]
    }
   ],
   "source": [
    "build_models_regression(x = descriptors, y = pIC50, model = \"CV\")"
   ]
  },
  {
   "cell_type": "markdown",
   "metadata": {},
   "source": [
    "## Testing Performance"
   ]
  },
  {
   "cell_type": "code",
   "execution_count": 13,
   "metadata": {
    "collapsed": false
   },
   "outputs": [
    {
     "name": "stdout",
     "output_type": "stream",
     "text": [
      "The external set's R-Squared is 0.51  and Root Mean Squared Error is 0.78\n"
     ]
    }
   ],
   "source": [
    "build_models_regression(x = descriptors, y = pIC50, model = \"testing\")"
   ]
  },
  {
   "cell_type": "markdown",
   "metadata": {},
   "source": [
    "## Scrambling for evaluating the predictive models (function)"
   ]
  },
  {
   "cell_type": "code",
   "execution_count": 26,
   "metadata": {
    "collapsed": false
   },
   "outputs": [],
   "source": [
    "#Scrambling pIC50\n",
    "import numpy as np\n",
    "def scrambling(x, y, model):\n",
    "   \n",
    "    \n",
    "    if model == \"R2\":\n",
    "        for i in range(100):\n",
    "            \n",
    "            np.random.shuffle(y)\n",
    "            X_train, X_test, y_train, y_test = train_test_split(x, y,\n",
    "            test_size = 0.2)\n",
    "            rf = RandomForestRegressor(n_estimators = 500, max_features = 'sqrt', n_jobs = -1)\n",
    "            rf.fit(X_train, y_train)\n",
    "            rmse = np.sqrt(mean_squared_error(y_train, rf.predict(X_train)))\n",
    "            r2 = abs(r2_score(y_train, rf.predict(X_train)))\n",
    "            print(\"The Scrambled  R-Squared is %.2f\" % r2)\n",
    "    #rmse = np.sqrt(mean_squared_error(y_train, rf.predict(X_train)))\n",
    "    #r2 = r2_score(y_train, rf.predict(X_train))\n",
    "    #print \"The internal set's R-Squared is %.2f  and Root Mean Squared Error is %.2f\" % (r2, rmse)\n",
    "    elif model == \"Q2\":\n",
    "        for i in range(100):\n",
    "            np.random.shuffle(y)\n",
    "            X_train, X_test, y_train, y_test = train_test_split(x, y,\n",
    "            test_size = 0.2)\n",
    "            rf = RandomForestRegressor(n_estimators = 500, max_features = 'sqrt', n_jobs = -1)\n",
    "            rf.fit(X_train, y_train)\n",
    "            #rmse = np.sqrt(mean_squared_error(y_train, cross_val_predict(rf, X_train, y_train, cv = 10)))\n",
    "            r2 = cross_val_score(rf, X_train, y_train, cv = 10)\n",
    "            r2 = abs(r2.mean())\n",
    "            #r2 = r2_score(y_train, cross_val_predict(rf, X_train, y_train, cv = 10))\n",
    "            print(\"The Scrambled Q2 is %.2f\" % r2)\n",
    "\n"
   ]
  },
  {
   "cell_type": "markdown",
   "metadata": {},
   "source": [
    "### Scrambled R2 for 100 times"
   ]
  },
  {
   "cell_type": "code",
   "execution_count": 27,
   "metadata": {
    "collapsed": false
   },
   "outputs": [
    {
     "name": "stdout",
     "output_type": "stream",
     "text": [
      "The Scrambled  R-Squared is 0.62\n",
      "The Scrambled  R-Squared is 0.60\n",
      "The Scrambled  R-Squared is 0.66\n",
      "The Scrambled  R-Squared is 0.64\n",
      "The Scrambled  R-Squared is 0.64\n",
      "The Scrambled  R-Squared is 0.59\n",
      "The Scrambled  R-Squared is 0.61\n",
      "The Scrambled  R-Squared is 0.59\n",
      "The Scrambled  R-Squared is 0.58\n",
      "The Scrambled  R-Squared is 0.64\n",
      "The Scrambled  R-Squared is 0.65\n",
      "The Scrambled  R-Squared is 0.63\n",
      "The Scrambled  R-Squared is 0.63\n",
      "The Scrambled  R-Squared is 0.62\n",
      "The Scrambled  R-Squared is 0.64\n",
      "The Scrambled  R-Squared is 0.68\n",
      "The Scrambled  R-Squared is 0.62\n",
      "The Scrambled  R-Squared is 0.66\n",
      "The Scrambled  R-Squared is 0.61\n",
      "The Scrambled  R-Squared is 0.61\n",
      "The Scrambled  R-Squared is 0.60\n",
      "The Scrambled  R-Squared is 0.64\n",
      "The Scrambled  R-Squared is 0.59\n",
      "The Scrambled  R-Squared is 0.62\n",
      "The Scrambled  R-Squared is 0.65\n",
      "The Scrambled  R-Squared is 0.63\n",
      "The Scrambled  R-Squared is 0.65\n",
      "The Scrambled  R-Squared is 0.62\n",
      "The Scrambled  R-Squared is 0.62\n",
      "The Scrambled  R-Squared is 0.61\n",
      "The Scrambled  R-Squared is 0.62\n",
      "The Scrambled  R-Squared is 0.57\n",
      "The Scrambled  R-Squared is 0.64\n",
      "The Scrambled  R-Squared is 0.64\n",
      "The Scrambled  R-Squared is 0.60\n",
      "The Scrambled  R-Squared is 0.59\n",
      "The Scrambled  R-Squared is 0.58\n",
      "The Scrambled  R-Squared is 0.61\n",
      "The Scrambled  R-Squared is 0.63\n",
      "The Scrambled  R-Squared is 0.58\n",
      "The Scrambled  R-Squared is 0.62\n",
      "The Scrambled  R-Squared is 0.68\n",
      "The Scrambled  R-Squared is 0.60\n",
      "The Scrambled  R-Squared is 0.59\n",
      "The Scrambled  R-Squared is 0.62\n",
      "The Scrambled  R-Squared is 0.60\n",
      "The Scrambled  R-Squared is 0.64\n",
      "The Scrambled  R-Squared is 0.63\n",
      "The Scrambled  R-Squared is 0.61\n",
      "The Scrambled  R-Squared is 0.62\n",
      "The Scrambled  R-Squared is 0.59\n",
      "The Scrambled  R-Squared is 0.63\n",
      "The Scrambled  R-Squared is 0.63\n",
      "The Scrambled  R-Squared is 0.64\n",
      "The Scrambled  R-Squared is 0.60\n",
      "The Scrambled  R-Squared is 0.66\n",
      "The Scrambled  R-Squared is 0.61\n",
      "The Scrambled  R-Squared is 0.61\n",
      "The Scrambled  R-Squared is 0.63\n",
      "The Scrambled  R-Squared is 0.65\n",
      "The Scrambled  R-Squared is 0.63\n",
      "The Scrambled  R-Squared is 0.62\n",
      "The Scrambled  R-Squared is 0.58\n",
      "The Scrambled  R-Squared is 0.60\n",
      "The Scrambled  R-Squared is 0.61\n",
      "The Scrambled  R-Squared is 0.64\n",
      "The Scrambled  R-Squared is 0.61\n",
      "The Scrambled  R-Squared is 0.59\n",
      "The Scrambled  R-Squared is 0.69\n",
      "The Scrambled  R-Squared is 0.60\n",
      "The Scrambled  R-Squared is 0.60\n",
      "The Scrambled  R-Squared is 0.59\n",
      "The Scrambled  R-Squared is 0.62\n",
      "The Scrambled  R-Squared is 0.63\n",
      "The Scrambled  R-Squared is 0.61\n",
      "The Scrambled  R-Squared is 0.60\n",
      "The Scrambled  R-Squared is 0.60\n",
      "The Scrambled  R-Squared is 0.66\n",
      "The Scrambled  R-Squared is 0.65\n",
      "The Scrambled  R-Squared is 0.64\n",
      "The Scrambled  R-Squared is 0.63\n",
      "The Scrambled  R-Squared is 0.61\n",
      "The Scrambled  R-Squared is 0.60\n",
      "The Scrambled  R-Squared is 0.66\n",
      "The Scrambled  R-Squared is 0.62\n",
      "The Scrambled  R-Squared is 0.63\n",
      "The Scrambled  R-Squared is 0.61\n",
      "The Scrambled  R-Squared is 0.62\n",
      "The Scrambled  R-Squared is 0.59\n",
      "The Scrambled  R-Squared is 0.63\n",
      "The Scrambled  R-Squared is 0.61\n",
      "The Scrambled  R-Squared is 0.61\n",
      "The Scrambled  R-Squared is 0.61\n",
      "The Scrambled  R-Squared is 0.62\n",
      "The Scrambled  R-Squared is 0.61\n",
      "The Scrambled  R-Squared is 0.65\n",
      "The Scrambled  R-Squared is 0.60\n",
      "The Scrambled  R-Squared is 0.66\n",
      "The Scrambled  R-Squared is 0.62\n",
      "The Scrambled  R-Squared is 0.58\n"
     ]
    }
   ],
   "source": [
    "scrambling(x = descriptors, y = pIC50, model = \"R2\")"
   ]
  },
  {
   "cell_type": "markdown",
   "metadata": {},
   "source": [
    "## Scrambed Q2 for 100 times"
   ]
  },
  {
   "cell_type": "code",
   "execution_count": 28,
   "metadata": {
    "collapsed": false
   },
   "outputs": [
    {
     "name": "stdout",
     "output_type": "stream",
     "text": [
      "The Scrambled Q2 is 0.24\n",
      "The Scrambled Q2 is 0.14\n",
      "The Scrambled Q2 is 0.33\n",
      "The Scrambled Q2 is 0.19\n",
      "The Scrambled Q2 is 0.33\n",
      "The Scrambled Q2 is 0.25\n",
      "The Scrambled Q2 is 0.22\n",
      "The Scrambled Q2 is 0.22\n",
      "The Scrambled Q2 is 0.32\n",
      "The Scrambled Q2 is 0.29\n",
      "The Scrambled Q2 is 0.21\n",
      "The Scrambled Q2 is 0.28\n",
      "The Scrambled Q2 is 0.20\n",
      "The Scrambled Q2 is 0.28\n",
      "The Scrambled Q2 is 0.23\n",
      "The Scrambled Q2 is 0.23\n",
      "The Scrambled Q2 is 0.30\n",
      "The Scrambled Q2 is 0.28\n",
      "The Scrambled Q2 is 0.28\n",
      "The Scrambled Q2 is 0.21\n",
      "The Scrambled Q2 is 0.22\n",
      "The Scrambled Q2 is 0.13\n",
      "The Scrambled Q2 is 0.36\n",
      "The Scrambled Q2 is 0.26\n",
      "The Scrambled Q2 is 0.28\n",
      "The Scrambled Q2 is 0.25\n",
      "The Scrambled Q2 is 0.29\n",
      "The Scrambled Q2 is 0.21\n",
      "The Scrambled Q2 is 0.26\n",
      "The Scrambled Q2 is 0.31\n",
      "The Scrambled Q2 is 0.21\n",
      "The Scrambled Q2 is 0.38\n",
      "The Scrambled Q2 is 0.20\n",
      "The Scrambled Q2 is 0.24\n",
      "The Scrambled Q2 is 0.33\n",
      "The Scrambled Q2 is 0.26\n",
      "The Scrambled Q2 is 0.27\n",
      "The Scrambled Q2 is 0.15\n",
      "The Scrambled Q2 is 0.22\n",
      "The Scrambled Q2 is 0.26\n",
      "The Scrambled Q2 is 0.27\n",
      "The Scrambled Q2 is 0.16\n",
      "The Scrambled Q2 is 0.31\n",
      "The Scrambled Q2 is 0.30\n",
      "The Scrambled Q2 is 0.31\n",
      "The Scrambled Q2 is 0.24\n",
      "The Scrambled Q2 is 0.31\n",
      "The Scrambled Q2 is 0.32\n",
      "The Scrambled Q2 is 0.31\n",
      "The Scrambled Q2 is 0.26\n",
      "The Scrambled Q2 is 0.26\n",
      "The Scrambled Q2 is 0.24\n",
      "The Scrambled Q2 is 0.29\n",
      "The Scrambled Q2 is 0.26\n",
      "The Scrambled Q2 is 0.23\n",
      "The Scrambled Q2 is 0.30\n",
      "The Scrambled Q2 is 0.33\n",
      "The Scrambled Q2 is 0.21\n",
      "The Scrambled Q2 is 0.21\n",
      "The Scrambled Q2 is 0.30\n",
      "The Scrambled Q2 is 0.24\n",
      "The Scrambled Q2 is 0.23\n",
      "The Scrambled Q2 is 0.12\n",
      "The Scrambled Q2 is 0.27\n",
      "The Scrambled Q2 is 0.30\n",
      "The Scrambled Q2 is 0.26\n",
      "The Scrambled Q2 is 0.30\n",
      "The Scrambled Q2 is 0.29\n",
      "The Scrambled Q2 is 0.24\n",
      "The Scrambled Q2 is 0.27\n",
      "The Scrambled Q2 is 0.28\n",
      "The Scrambled Q2 is 0.30\n",
      "The Scrambled Q2 is 0.20\n",
      "The Scrambled Q2 is 0.25\n",
      "The Scrambled Q2 is 0.23\n",
      "The Scrambled Q2 is 0.32\n",
      "The Scrambled Q2 is 0.32\n",
      "The Scrambled Q2 is 0.28\n",
      "The Scrambled Q2 is 0.21\n",
      "The Scrambled Q2 is 0.16\n",
      "The Scrambled Q2 is 0.20\n",
      "The Scrambled Q2 is 0.25\n",
      "The Scrambled Q2 is 0.25\n",
      "The Scrambled Q2 is 0.32\n",
      "The Scrambled Q2 is 0.23\n",
      "The Scrambled Q2 is 0.32\n",
      "The Scrambled Q2 is 0.25\n",
      "The Scrambled Q2 is 0.22\n",
      "The Scrambled Q2 is 0.20\n",
      "The Scrambled Q2 is 0.24\n",
      "The Scrambled Q2 is 0.19\n",
      "The Scrambled Q2 is 0.23\n",
      "The Scrambled Q2 is 0.24\n",
      "The Scrambled Q2 is 0.19\n",
      "The Scrambled Q2 is 0.20\n",
      "The Scrambled Q2 is 0.28\n",
      "The Scrambled Q2 is 0.24\n",
      "The Scrambled Q2 is 0.27\n",
      "The Scrambled Q2 is 0.22\n",
      "The Scrambled Q2 is 0.27\n"
     ]
    }
   ],
   "source": [
    "scrambling(x = descriptors, y = pIC50, model = \"Q2\")"
   ]
  },
  {
   "cell_type": "markdown",
   "metadata": {},
   "source": [
    "## Feature Importance plot"
   ]
  },
  {
   "cell_type": "code",
   "execution_count": 78,
   "metadata": {
    "collapsed": false
   },
   "outputs": [
    {
     "data": {
      "text/plain": [
       "RandomForestRegressor(bootstrap=True, criterion='mse', max_depth=None,\n",
       "           max_features='sqrt', max_leaf_nodes=None, min_samples_leaf=1,\n",
       "           min_samples_split=2, min_weight_fraction_leaf=0.0,\n",
       "           n_estimators=500, n_jobs=1, oob_score=False, random_state=None,\n",
       "           verbose=0, warm_start=False)"
      ]
     },
     "execution_count": 78,
     "metadata": {},
     "output_type": "execute_result"
    }
   ],
   "source": [
    "from sklearn.ensemble import RandomForestRegressor\n",
    "from sklearn.cross_validation import train_test_split, cross_val_predict, cross_val_score\n",
    "from sklearn.metrics import r2_score, mean_squared_error\n",
    "import numpy as np\n",
    "\n",
    "\n",
    "\n",
    "X_train, X_test, y_train, y_test = train_test_split(descriptors, pIC50,\n",
    "        test_size = 0.2)\n",
    "rf = RandomForestRegressor(n_estimators = 500, max_features = 'sqrt')\n",
    "rf.fit(X_train, y_train)"
   ]
  },
  {
   "cell_type": "code",
   "execution_count": 98,
   "metadata": {
    "collapsed": false
   },
   "outputs": [],
   "source": [
    "important_features = []\n",
    "for x,i in enumerate(rf.feature_importances_):\n",
    "    if i>np.average(rf.feature_importances_):\n",
    "        important_features.append((x))"
   ]
  },
  {
   "cell_type": "code",
   "execution_count": 103,
   "metadata": {
    "collapsed": false
   },
   "outputs": [
    {
     "name": "stdout",
     "output_type": "stream",
     "text": [
      "[1, 8, 11, 13, 14, 18, 29, 31, 35, 41, 45, 62, 67, 80, 91, 93, 114, 115, 116, 117, 119, 121, 140, 144, 147, 155, 157, 162, 170, 173, 191, 192, 193, 197, 202, 216, 222, 229, 231, 233, 237, 245, 248, 251, 253, 255, 256, 281, 283, 294, 301, 305, 314, 317, 318, 319, 322, 323, 325, 335, 341, 343, 345, 350, 352, 362, 372, 378, 384, 386, 387, 389, 392, 394, 401, 407, 427, 441, 458, 464, 473, 478, 486, 487, 488, 504, 507, 523, 527, 550, 552, 561, 573, 576, 585, 586, 590, 612, 622, 623, 636, 652, 656, 667, 674, 675, 684, 689, 692, 694, 695, 699, 713, 715, 724, 725, 736, 739, 740, 744, 745, 746, 747, 750, 753, 782, 787, 788, 789, 794, 798, 800, 802, 806, 807, 809, 832, 835, 838, 841, 844, 855, 864, 875, 878, 879, 881, 885, 890, 898, 910, 915, 917, 926, 927, 935, 940, 941, 950, 953, 956, 961, 974, 980, 995, 1004, 1017, 1019, 1024, 1027, 1028, 1034, 1056, 1057, 1060, 1083, 1086, 1088, 1089, 1093, 1096, 1097, 1101, 1114, 1122, 1139, 1145, 1147, 1152, 1160, 1162, 1163, 1164, 1168, 1171, 1181, 1182, 1195, 1210, 1224, 1228, 1233, 1236, 1238, 1241, 1243, 1252, 1256, 1257, 1274, 1279, 1280, 1292, 1294, 1303, 1308, 1309, 1312, 1324, 1325, 1333, 1349, 1351, 1356, 1357, 1380, 1385, 1386, 1391, 1402, 1409, 1416, 1417, 1430, 1432, 1449, 1452, 1453, 1455, 1457, 1459, 1476, 1477, 1480, 1495, 1502, 1506, 1535, 1536, 1542, 1544, 1545, 1564, 1567, 1569, 1575, 1582, 1602, 1603, 1604, 1607, 1614, 1623, 1631, 1634, 1640, 1657, 1670, 1683, 1693, 1700, 1722, 1726, 1731, 1737, 1738, 1742, 1745, 1747, 1750, 1753, 1754, 1758, 1765, 1781, 1783, 1791, 1808, 1810, 1816, 1820, 1821, 1823, 1825, 1828, 1838, 1840, 1854, 1855, 1859, 1861, 1866, 1867, 1871, 1873, 1877, 1878, 1879, 1899, 1905, 1906, 1911, 1917, 1919, 1928, 1934, 1946, 1949, 1950, 1951, 1956, 1959, 1963, 1970, 1980, 1982, 2000, 2033, 2034]\n"
     ]
    }
   ],
   "source": [
    "print(important_features)"
   ]
  },
  {
   "cell_type": "code",
   "execution_count": 110,
   "metadata": {
    "collapsed": false
   },
   "outputs": [
    {
     "data": {
      "image/png": "[encoded data removed]",
      "text/plain": [
       "<matplotlib.figure.Figure at 0x12dd306a0>"
      ]
     },
     "metadata": {},
     "output_type": "display_data"
    }
   ],
   "source": [
    "import numpy as np\n",
    "import matplotlib.pyplot as plt\n",
    "\n",
    "#plt.figure(figsize=(6 * 1.618, 6))\n",
    "index = np.arange(len(important_features))\n",
    "bar_width = 0.35\n",
    "plt.bar(index, important_features, color='black', alpha=0.5)\n",
    "plt.xlabel('features')\n",
    "plt.ylabel('importance')\n",
    "plt.title('Feature importance')\n",
    "plt.xticks(index + bar_width, important_features)\n",
    "plt.tight_layout()"
   ]
  }
 ],
 "metadata": {
  "kernelspec": {
   "display_name": "Python 3",
   "language": "python",
   "name": "python3"
  },
  "language_info": {
   "codemirror_mode": {
    "name": "ipython",
    "version": 3
   },
   "file_extension": ".py",
   "mimetype": "text/x-python",
   "name": "python",
   "nbconvert_exporter": "python",
   "pygments_lexer": "ipython3",
   "version": "3.5.1"
  }
 },
 "nbformat": 4,
 "nbformat_minor": 0
}
