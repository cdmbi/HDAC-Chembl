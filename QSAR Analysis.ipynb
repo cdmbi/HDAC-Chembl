{
 "cells": [
  {
   "cell_type": "markdown",
   "metadata": {},
   "source": [
    "## Import Data\n"
   ]
  },
  {
   "cell_type": "code",
   "execution_count": 3,
   "metadata": {
    "collapsed": false
   },
   "outputs": [],
   "source": [
    "import pandas as pd\n",
    "file = pd.read_csv(\"hdac.txt\", sep = \"\\t\")\n",
    "### Get only IC50 that has equal acticit and the units of nM\n",
    "query = file.query('STANDARD_TYPE == \"IC50\" and RELATION == \"=\" and STANDARD_UNITS == \"nM\"')\n",
    "\n",
    "IC50 = query['STANDARD_VALUE']\n",
    "SMILES = query['CANONICAL_SMILES']\n"
   ]
  },
  {
   "cell_type": "code",
   "execution_count": 4,
   "metadata": {
    "collapsed": false
   },
   "outputs": [
    {
     "data": {
      "text/plain": [
       "CMPD_CHEMBLID            707\n",
       "MOLREGNO                 707\n",
       "PARENT_CMPD_CHEMBLID     707\n",
       "PARENT_MOLREGNO          707\n",
       "MOL_PREF_NAME            131\n",
       "COMPOUND_KEY             707\n",
       "MOLWEIGHT                700\n",
       "ALOGP                    697\n",
       "PSA                      697\n",
       "NUM_RO5_VIOLATIONS       697\n",
       "CANONICAL_SMILES         707\n",
       "ACTIVITY_ID              707\n",
       "STANDARD_TYPE            707\n",
       "RELATION                 707\n",
       "STANDARD_VALUE           707\n",
       "STANDARD_UNITS           707\n",
       "PCHEMBL_VALUE            701\n",
       "ACTIVITY_COMMENT           0\n",
       "DATA_VALIDITY_COMMENT      6\n",
       "POTENTIAL_DUPLICATE      707\n",
       "BAO_ENDPOINT             707\n",
       "UO_UNITS                 707\n",
       "QUDT_UNITS               707\n",
       "ASSAY_ID                 707\n",
       "ASSAY_CHEMBLID           707\n",
       "ASSAY_TYPE               707\n",
       "DESCRIPTION              707\n",
       "ASSAY_SRC_ID             707\n",
       "ASSAY_SRC_DESCRIPTION    707\n",
       "ASSAY_ORGANISM           567\n",
       "ASSAY_STRAIN               0\n",
       "ASSAY_TAX_ID             567\n",
       "CURATED_BY               707\n",
       "BAO_FORMAT               707\n",
       "TID                      707\n",
       "TARGET_CHEMBLID          707\n",
       "TARGET_TYPE              707\n",
       "PROTEIN_ACCESSION        707\n",
       "PREF_NAME                707\n",
       "ORGANISM                 707\n",
       "CONFIDENCE_SCORE         707\n",
       "TARGET_MAPPING           707\n",
       "APD_NAME                 562\n",
       "APD_CONFIDENCE           439\n",
       "DOC_ID                   707\n",
       "DOC_CHEMBLID             707\n",
       "PUBMED_ID                680\n",
       "JOURNAL                  707\n",
       "YEAR                     707\n",
       "VOLUME                   707\n",
       "ISSUE                    648\n",
       "FIRST_PAGE               707\n",
       "CELL_ID                   30\n",
       "CELL_CHEMBL_ID            30\n",
       "CELL_NAME                 30\n",
       "dtype: int64"
      ]
     },
     "execution_count": 4,
     "metadata": {},
     "output_type": "execute_result"
    }
   ],
   "source": [
    "query.count(axis=0)"
   ]
  },
  {
   "cell_type": "markdown",
   "metadata": {},
   "source": [
    "## Standardized molecules"
   ]
  },
  {
   "cell_type": "code",
   "execution_count": 5,
   "metadata": {
    "collapsed": false
   },
   "outputs": [
    {
     "ename": "ImportError",
     "evalue": "No module named 'rdkit'",
     "output_type": "error",
     "traceback": [
      "\u001b[0;31m---------------------------------------------------------------------------\u001b[0m",
      "\u001b[0;31mImportError\u001b[0m                               Traceback (most recent call last)",
      "\u001b[0;32m<ipython-input-5-72d72218c0fc>\u001b[0m in \u001b[0;36m<module>\u001b[0;34m()\u001b[0m\n\u001b[0;32m----> 1\u001b[0;31m \u001b[0;32mfrom\u001b[0m \u001b[0mrdkit\u001b[0m\u001b[0;34m.\u001b[0m\u001b[0mChem\u001b[0m\u001b[0;34m.\u001b[0m\u001b[0mSaltRemover\u001b[0m \u001b[0;32mimport\u001b[0m \u001b[0mSaltRemover\u001b[0m\u001b[0;34m\u001b[0m\u001b[0m\n\u001b[0m\u001b[1;32m      2\u001b[0m \u001b[0;32mfrom\u001b[0m \u001b[0mrdkit\u001b[0m\u001b[0;34m.\u001b[0m\u001b[0mChem\u001b[0m \u001b[0;32mimport\u001b[0m \u001b[0mMolFromSmiles\u001b[0m\u001b[0;34m,\u001b[0m\u001b[0mMolToSmiles\u001b[0m\u001b[0;34m\u001b[0m\u001b[0m\n\u001b[1;32m      3\u001b[0m \u001b[0;34m\u001b[0m\u001b[0m\n\u001b[1;32m      4\u001b[0m \u001b[0mremover\u001b[0m \u001b[0;34m=\u001b[0m \u001b[0mSaltRemover\u001b[0m\u001b[0;34m(\u001b[0m\u001b[0;34m)\u001b[0m\u001b[0;34m\u001b[0m\u001b[0m\n\u001b[1;32m      5\u001b[0m \u001b[0mlen\u001b[0m\u001b[0;34m(\u001b[0m\u001b[0mremover\u001b[0m\u001b[0;34m.\u001b[0m\u001b[0msalts\u001b[0m\u001b[0;34m)\u001b[0m\u001b[0;34m\u001b[0m\u001b[0m\n",
      "\u001b[0;31mImportError\u001b[0m: No module named 'rdkit'"
     ]
    }
   ],
   "source": [
    "from rdkit.Chem.SaltRemover import SaltRemover\n",
    "from rdkit.Chem import MolFromSmiles,MolToSmiles\n",
    "\n",
    "remover = SaltRemover()\n",
    "len(remover.salts)\n",
    "\n",
    "SMILES_desalt = []\n",
    "\n",
    "for i in SMILES:\n",
    "    mol = MolFromSmiles(i) \n",
    "    mol_desalt = remover.StripMol(mol)\n",
    "    mol_SMILES = MolToSmiles(mol_desalt)\n",
    "    SMILES_desalt.append(mol_SMILES)"
   ]
  },
  {
   "cell_type": "code",
   "execution_count": 6,
   "metadata": {
    "collapsed": false
   },
   "outputs": [
    {
     "ename": "ImportError",
     "evalue": "No module named 'rdkit'",
     "output_type": "error",
     "traceback": [
      "\u001b[0;31m---------------------------------------------------------------------------\u001b[0m",
      "\u001b[0;31mImportError\u001b[0m                               Traceback (most recent call last)",
      "\u001b[0;32m<ipython-input-6-1403d574aaa9>\u001b[0m in \u001b[0;36m<module>\u001b[0;34m()\u001b[0m\n\u001b[0;32m----> 1\u001b[0;31m \u001b[0;32mfrom\u001b[0m \u001b[0mrdkit\u001b[0m \u001b[0;32mimport\u001b[0m \u001b[0;34m*\u001b[0m\u001b[0;34m\u001b[0m\u001b[0m\n\u001b[0m",
      "\u001b[0;31mImportError\u001b[0m: No module named 'rdkit'"
     ]
    }
   ],
   "source": [
    "from rdkit import *"
   ]
  },
  {
   "cell_type": "code",
   "execution_count": null,
   "metadata": {
    "collapsed": true
   },
   "outputs": [],
   "source": []
  }
 ],
 "metadata": {
  "kernelspec": {
   "display_name": "Python 3",
   "language": "python",
   "name": "python3"
  },
  "language_info": {
   "codemirror_mode": {
    "name": "ipython",
    "version": 3
   },
   "file_extension": ".py",
   "mimetype": "text/x-python",
   "name": "python",
   "nbconvert_exporter": "python",
   "pygments_lexer": "ipython3",
   "version": "3.5.1"
  }
 },
 "nbformat": 4,
 "nbformat_minor": 0
}
